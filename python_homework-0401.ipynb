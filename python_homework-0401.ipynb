{
 "cells": [
  {
   "cell_type": "code",
   "execution_count": null,
   "metadata": {},
   "outputs": [
    {
     "name": "stdout",
     "output_type": "stream",
     "text": [
      "\n",
      "enter player 1 choice: paper\n",
      "enter player 2 choice: scissors\n",
      "p_2 beats p_1 , player 2 win!\n"
     ]
    }
   ],
   "source": [
    "Rules = ['rock','paper','scissors']\n",
    "move=True\n",
    "while move ==True:\n",
    "    p_1 = input('\\nenter player 1 choice: ').lower()\n",
    "    p_2 = input('enter player 2 choice: ').lower()\n",
    "    if (p_1 != p_2) and (p_1 in Rules) and (p_2 in Rules):\n",
    "        if (p_1=='rock' and p_2=='scissors') or (p_1=='paper' and p_2=='rock') or (p_1=='scissors' and p_2=='paper'):\n",
    "            print('p_1 beats p_2 , player 1 win!')\n",
    "        else:\n",
    "            print('p_2 beats p_1 , player 2 win!')\n",
    "        \n",
    "        playagain = input('play again: (yes/no) : ' ).lower()\n",
    "        if playagain == 'yes':\n",
    "            move = True\n",
    "        else:\n",
    "            move = False \n",
    "    else:\n",
    "        print('Invalid input, {p_1,p_2} Please retry ')\n",
    "        pass "
   ]
  },
  {
   "cell_type": "code",
   "execution_count": null,
   "metadata": {},
   "outputs": [],
   "source": []
  }
 ],
 "metadata": {
  "kernelspec": {
   "display_name": "Python 3",
   "language": "python",
   "name": "python3"
  },
  "language_info": {
   "codemirror_mode": {
    "name": "ipython",
    "version": 3
   },
   "file_extension": ".py",
   "mimetype": "text/x-python",
   "name": "python",
   "nbconvert_exporter": "python",
   "pygments_lexer": "ipython3",
   "version": "3.7.6"
  }
 },
 "nbformat": 4,
 "nbformat_minor": 4
}
